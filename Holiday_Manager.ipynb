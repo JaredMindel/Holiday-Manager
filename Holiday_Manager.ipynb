{
 "cells": [
  {
   "cell_type": "markdown",
   "metadata": {},
   "source": [
    "#### Importing Libraries"
   ]
  },
  {
   "cell_type": "code",
   "execution_count": null,
   "metadata": {},
   "outputs": [],
   "source": [
    "import datetime\n",
    "import json\n",
    "from bs4 import BeautifulSoup\n",
    "import requests\n",
    "from dataclasses import dataclass"
   ]
  },
  {
   "cell_type": "markdown",
   "metadata": {},
   "source": [
    "#### Making the Holiday class"
   ]
  },
  {
   "cell_type": "code",
   "execution_count": 170,
   "metadata": {},
   "outputs": [
    {
     "name": "stdout",
     "output_type": "stream",
     "text": [
      "The holiday is Christmas and the date is 1999-01-01 00:00:00\n",
      "{'_name': 'Christmas', '_date': datetime.datetime(1999, 1, 1, 0, 0)}\n",
      "The holiday is Jeff and the date is 1999-11-18 00:00:00\n",
      "{'_name': 'Jeff', '_date': datetime.datetime(1999, 11, 18, 0, 0)}\n"
     ]
    }
   ],
   "source": [
    "class Holiday:\n",
    "\n",
    "    def __init__(self, name, date):\n",
    "            \n",
    "        date_format = '%Y-%m-%d'\n",
    "        date = datetime.datetime.strptime(date, date_format)\n",
    "        self._name = name \n",
    "        self._date = date\n",
    "\n",
    "    def __str__(self):\n",
    "        return f'The holiday is {self._name} and the date is {self._date}'\n",
    "    \n",
    "\n",
    "Christmas = Holiday('Christmas', '1999-01-01')\n",
    "Jeff = Holiday('Jeff', '1999-11-18')\n",
    "Thanos = Holiday('Thanos', '2012-09-26')\n",
    "print(Christmas)\n",
    "print(vars(Christmas))\n",
    "print(Jeff)\n",
    "print(vars(Jeff))"
   ]
  },
  {
   "cell_type": "code",
   "execution_count": 214,
   "metadata": {},
   "outputs": [
    {
     "name": "stdout",
     "output_type": "stream",
     "text": [
      "[{'_name': 'Jeff', '_date': datetime.datetime(1999, 11, 18, 0, 0)}, {'_name': 'Christmas', '_date': datetime.datetime(1999, 1, 1, 0, 0)}, {'_name': 'Thanos', '_date': datetime.datetime(2012, 9, 26, 0, 0)}]\n",
      "[{'_name': 'Christmas', '_date': datetime.datetime(1999, 1, 1, 0, 0)}]\n",
      "[('Jeff', 46), ('Christmas', 53), ('Thanos', 39)]\n"
     ]
    }
   ],
   "source": [
    "class HolidayList:\n",
    "    \n",
    "    innerHolidays = []\n",
    "    \n",
    "    def __init__(self, holidayObj):\n",
    "        self.holidayObj = holidayObj\n",
    "\n",
    "    def addHoliday(self, holidayObj):\n",
    "        \n",
    "        self.innerHolidays.append(vars(holidayObj))\n",
    "        return self.innerHolidays\n",
    "\n",
    "    def __str__(self):\n",
    "        return f'The Holidays are as follows: {self.innerHolidays}'\n",
    "    \n",
    "    def __repr__(self):\n",
    "        return f'the holiday is {self.holidayObj}, holiday list: {self.innerHolidays}'\n",
    "    \n",
    "    def findHoliday(self, HolidayName, Date):\n",
    "        for item in self.innerHolidays:\n",
    "            if item['_name'] == HolidayName:\n",
    "                if item['_date'] == datetime.datetime.strptime(Date, '%Y-%m-%d'):\n",
    "                    return f'The Holiday is {HolidayName} and the date is {Date}'\n",
    "                else: \n",
    "                    return 'That holiday is not here; the date may be wrong.'\n",
    "    \n",
    "    def removeHoliday(self, HolidayName, Date):\n",
    "        for item in self.innerHolidays:\n",
    "            if item['_name'] == HolidayName:\n",
    "                if item['_date'] == datetime.datetime.strptime(Date, '%Y-%m-%d'):\n",
    "                    self.innerHolidays.remove(item)\n",
    "                    return 'That holiday has been removed'\n",
    "                else:\n",
    "                    return 'That holiday is not here; the date may be wrong.'\n",
    "            else: \n",
    "                return 'That name is not in here.'\n",
    "    \n",
    "    def numHolidays(self):\n",
    "        holiday_num = len(self.innerHolidays)\n",
    "        return f'There are {holiday_num} holidays here'\n",
    "\n",
    "    def filter_holidays_by_week(self, year, week):\n",
    "       self.holidays = list(filter(lambda x:x['_date'].isocalendar()[1] == week and x['_date'].isocalendar()[0] == year, self.innerHolidays))\n",
    "       return self.holidays\n",
    "\n",
    "    def displayHolidaysinWeek(self):\n",
    "        \n",
    "\n",
    "    def displayHolidaysandWeek(self):\n",
    "        return list(map(lambda x:(x['_name'], x['_date'].isocalendar()[1]), self.innerHolidays))\n",
    "    \n",
    "    def showHolidays(self):\n",
    "        return self.innerHolidays\n",
    "    \n",
    "\n",
    "\n",
    "full_list = HolidayList\n",
    "full_list.addHoliday(full_list, Jeff)\n",
    "full_list.addHoliday(full_list, Christmas)\n",
    "full_list.addHoliday(full_list, Thanos)\n",
    "print(full_list.showHolidays(full_list))\n",
    "print(full_list.filter_holidays_by_week(full_list, 1998, 53))\n",
    "print(full_list.displayHolidaysInWeek(full_list))"
   ]
  }
 ],
 "metadata": {
  "interpreter": {
   "hash": "97f613484c7082a5f441d3814b62bbd2ba6367090f977f8bd3f34e33dc661583"
  },
  "kernelspec": {
   "display_name": "Python 3.9.7 ('base')",
   "language": "python",
   "name": "python3"
  },
  "language_info": {
   "codemirror_mode": {
    "name": "ipython",
    "version": 3
   },
   "file_extension": ".py",
   "mimetype": "text/x-python",
   "name": "python",
   "nbconvert_exporter": "python",
   "pygments_lexer": "ipython3",
   "version": "3.9.7"
  },
  "orig_nbformat": 4
 },
 "nbformat": 4,
 "nbformat_minor": 2
}
