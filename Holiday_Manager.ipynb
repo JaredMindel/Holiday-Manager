{
 "cells": [
  {
   "cell_type": "markdown",
   "metadata": {},
   "source": [
    "#### Importing Libraries"
   ]
  },
  {
   "cell_type": "code",
   "execution_count": 2,
   "metadata": {},
   "outputs": [],
   "source": [
    "import datetime\n",
    "import json\n",
    "from bs4 import BeautifulSoup\n",
    "import requests\n",
    "from dataclasses import dataclass"
   ]
  },
  {
   "cell_type": "markdown",
   "metadata": {},
   "source": [
    "#### Making the Holiday class"
   ]
  },
  {
   "cell_type": "code",
   "execution_count": 76,
   "metadata": {},
   "outputs": [
    {
     "name": "stdout",
     "output_type": "stream",
     "text": [
      "The holiday is Christmas and the date is 1999-01-01 00:00:00\n",
      "{'_name': 'Christmas', '_date': datetime.datetime(1999, 1, 1, 0, 0)}\n",
      "The holiday is Jeff and the date is 1999-11-18 00:00:00\n",
      "{'_name': 'Jeff', '_date': datetime.datetime(1999, 11, 18, 0, 0)}\n"
     ]
    }
   ],
   "source": [
    "class Holiday:\n",
    "\n",
    "    def __init__(self, name, date):\n",
    "            \n",
    "        date_format = '%Y-%m-%d'\n",
    "        date = datetime.datetime.strptime(date, date_format)\n",
    "        self._name = name \n",
    "        self._date = date\n",
    "\n",
    "    def __str__(self):\n",
    "        return f'The holiday is {self._name} and the date is {self._date}'\n",
    "    \n",
    "\n",
    "Christmas = Holiday('Christmas', '1999-01-01')\n",
    "Jeffday = Holiday('Jeff', '1999-11-18')\n",
    "print(Christmas)\n",
    "print(vars(Christmas))\n",
    "print(Jeffday)\n",
    "print(vars(Jeffday))"
   ]
  },
  {
   "cell_type": "code",
   "execution_count": 77,
   "metadata": {},
   "outputs": [
    {
     "name": "stdout",
     "output_type": "stream",
     "text": [
      "[{'_name': 'Christmas', '_date': datetime.datetime(1999, 1, 1, 0, 0)}]\n",
      "[{'_name': 'Christmas', '_date': datetime.datetime(1999, 1, 1, 0, 0)}, {'_name': 'Jeff', '_date': datetime.datetime(1999, 11, 18, 0, 0)}]\n",
      "[{'_name': 'Christmas', '_date': datetime.datetime(1999, 1, 1, 0, 0)}, {'_name': 'Jeff', '_date': datetime.datetime(1999, 11, 18, 0, 0)}, {'_name': 'Thanos', '_date': datetime.datetime(2001, 9, 11, 0, 0)}]\n"
     ]
    }
   ],
   "source": [
    "class HolidayList:\n",
    "    \n",
    "    innerHolidays = []\n",
    "    \n",
    "    def __init__(self, holidayObj):\n",
    "        self.holidayObj = holidayObj\n",
    "\n",
    "    def addHoliday(self, holidayObj):\n",
    "        \n",
    "        self.innerHolidays.append(vars(holidayObj))\n",
    "        return self.innerHolidays\n",
    "\n",
    "    def __str__(self):\n",
    "        return f'The Holidays are as follows: {self.innerHolidays}'\n",
    "    \n",
    "    def __repr__(self):\n",
    "        return f'the holiday is {self.holidayObj}, holiday list: {self.innerHolidays}'\n",
    "    \n",
    "    def findHoliday(HolidayName, Date):\n",
    "        return HolidayName, Date\n",
    "\n",
    "full_list = HolidayList\n",
    "print(full_list.addHoliday(HolidayList, Christmas))\n",
    "print(full_list.addHoliday(full_list, Jeffday))"
   ]
  }
 ],
 "metadata": {
  "interpreter": {
   "hash": "97f613484c7082a5f441d3814b62bbd2ba6367090f977f8bd3f34e33dc661583"
  },
  "kernelspec": {
   "display_name": "Python 3.9.7 ('base')",
   "language": "python",
   "name": "python3"
  },
  "language_info": {
   "codemirror_mode": {
    "name": "ipython",
    "version": 3
   },
   "file_extension": ".py",
   "mimetype": "text/x-python",
   "name": "python",
   "nbconvert_exporter": "python",
   "pygments_lexer": "ipython3",
   "version": "3.9.7"
  },
  "orig_nbformat": 4
 },
 "nbformat": 4,
 "nbformat_minor": 2
}
