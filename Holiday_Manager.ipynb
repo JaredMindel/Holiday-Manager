{
 "cells": [
  {
   "cell_type": "markdown",
   "metadata": {},
   "source": [
    "#### Importing Libraries"
   ]
  },
  {
   "cell_type": "code",
   "execution_count": 10,
   "metadata": {},
   "outputs": [],
   "source": [
    "from datetime import datetime\n",
    "from datetime import date\n",
    "from datetime import timedelta\n",
    "import json\n",
    "from bs4 import BeautifulSoup\n",
    "import requests\n",
    "from dataclasses import dataclass"
   ]
  },
  {
   "cell_type": "markdown",
   "metadata": {},
   "source": [
    "#### Making the Holiday class"
   ]
  },
  {
   "cell_type": "code",
   "execution_count": 170,
   "metadata": {},
   "outputs": [
    {
     "name": "stdout",
     "output_type": "stream",
     "text": [
      "The holiday is Christmas and the date is 1999-01-01 00:00:00\n",
      "{'_name': 'Christmas', '_date': datetime.datetime(1999, 1, 1, 0, 0)}\n",
      "The holiday is Jeff and the date is 1999-11-18 00:00:00\n",
      "{'_name': 'Jeff', '_date': datetime.datetime(1999, 11, 18, 0, 0)}\n"
     ]
    }
   ],
   "source": [
    "class Holiday:\n",
    "\n",
    "    def __init__(self, name, date):\n",
    "            \n",
    "        date_format = '%Y-%m-%d'\n",
    "        date = datetime.datetime.strptime(date, date_format)\n",
    "        self._name = name \n",
    "        self._date = date\n",
    "\n",
    "    def __str__(self):\n",
    "        return f'The holiday is {self._name} and the date is {self._date}'\n",
    "    \n",
    "\n",
    "Christmas = Holiday('Christmas', '1999-01-01')\n",
    "Jeff = Holiday('Jeff', '1999-11-18')\n",
    "Thanos = Holiday('Thanos', '2012-09-26')\n",
    "print(Christmas)\n",
    "print(vars(Christmas))\n",
    "print(Jeff)\n",
    "print(vars(Jeff))"
   ]
  },
  {
   "cell_type": "code",
   "execution_count": null,
   "metadata": {},
   "outputs": [],
   "source": [
    "class HolidayList:\n",
    "    \n",
    "    innerHolidays = []\n",
    "    \n",
    "    def __init__(self, holidayObj):\n",
    "        self.holidayObj = holidayObj\n",
    "\n",
    "    def addHoliday(self, holidayObj):\n",
    "        \n",
    "        self.innerHolidays.append(vars(holidayObj))\n",
    "        return self.innerHolidays\n",
    "\n",
    "    def __str__(self):\n",
    "        return f'The Holidays are as follows: {self.innerHolidays}'\n",
    "    \n",
    "    def __repr__(self):\n",
    "        return f'the holiday is {self.holidayObj}, holiday list: {self.innerHolidays}'\n",
    "    \n",
    "    def findHoliday(self, HolidayName, Date):\n",
    "        for item in self.innerHolidays:\n",
    "            if item['_name'] == HolidayName:\n",
    "                if item['_date'] == datetime.datetime.strptime(Date, '%Y-%m-%d'):\n",
    "                    return f'The Holiday is {HolidayName} and the date is {Date}'\n",
    "                else: \n",
    "                    return 'That holiday is not here; the date may be wrong.'\n",
    "    \n",
    "    def removeHoliday(self, HolidayName, Date):\n",
    "        for item in self.innerHolidays:\n",
    "            if item['_name'] == HolidayName:\n",
    "                if item['_date'] == datetime.datetime.strptime(Date, '%Y-%m-%d'):\n",
    "                    self.innerHolidays.remove(item)\n",
    "                    return 'That holiday has been removed'\n",
    "                else:\n",
    "                    return 'That holiday is not here; the date may be wrong.'\n",
    "            else: \n",
    "                return 'That name is not in here.'\n",
    "    \n",
    "    def numHolidays(self):\n",
    "        holiday_num = len(self.innerHolidays)\n",
    "        return f'There are {holiday_num} holidays here'\n",
    "\n",
    "    def filter_holidays_by_week(self, year, week):\n",
    "       self.holidays = list(filter(lambda x:x['_date'].isocalendar()[1] == week and x['_date'].isocalendar()[0] == year, self.innerHolidays))\n",
    "       return self.holidays\n",
    "\n",
    "    def displayHolidaysinWeek(self):\n",
    "        return \"Getting to this later\"\n",
    "\n",
    "    def displayHolidaysandWeek(self):\n",
    "        return list(map(lambda x:(x['_name'], x['_date'].isocalendar()[1]), self.innerHolidays))\n",
    "    \n",
    "    def showHolidays(self):\n",
    "        return self.innerHolidays\n",
    "    \n",
    "    def scrapeHolidays(self):\n",
    "        \n",
    "        self.holidays_in_2020 = requests.get('https://www.timeanddate.com/holidays/us/2020').text\n",
    "        self.holidays_in_2020_bs = BeautifulSoup(self.holidays_in_2020, 'html.parser')\n",
    "        \n",
    "        self.holidays_in_2021 = requests.get('https://www.timeanddate.com/holidays/us/2021').text\n",
    "        self.holidays_in_2021_bs = BeautifulSoup(self.holidays_in_2021, 'html.parser')\n",
    "        \n",
    "        self.holidays_in_2022 = requests.get('https://www.timeanddate.com/holidays/us/2022').text\n",
    "        self.holidays_in_2022_bs = BeautifulSoup(self.holidays_in_2022, 'html.parser')\n",
    "\n",
    "        self.holidays_in_2023 = requests.get('https://www.timeanddate.com/holidays/us/2023').text\n",
    "        self.holidays_in_2023_bs = BeautifulSoup(self.holidays_in_2023, 'html.parser')\n",
    "\n",
    "        self.holidays_in_2024 = requests.get('https://www.timeanddate.com/holidays/us/2024').text\n",
    "        self.holidays_in_2024_bs = BeautifulSoup(self.holidays_in_2024, 'html.parser')\n",
    "\n",
    "        self.holiday_year_list = [self.holidays_in_2020_bs, self.holidays_in_2021_bs, self.holidays_in_2022_bs, self.holidays_in_2023_bs, self.holidays_in_2024_bs]\n",
    "        \n",
    "        holiday_list = []\n",
    "\n",
    "        for self.holiday_list_item in self.holiday_year_list:\n",
    "\n",
    "            holiday_list_year = self.holiday_list_item.title.contents[0][-4:]\n",
    "            tbody = self.holiday_list_item.tbody\n",
    "            trs = tbody.contents\n",
    "            for tr in trs[1:]:\n",
    "                if len(str(tr)) > 35:\n",
    "                    holiday_dictionary = {}\n",
    "                    holiday_dictionary['Holiday Name'] = tr.find('a').string\n",
    "                    holiday_dictionary['Holiday Date'] = tr.find('th').string\n",
    "                    holiday_dictionary['Holiday Year'] = holiday_list_year\n",
    "                    holiday_list.append(holiday_dictionary)\n",
    "\n",
    "        return holiday_list\n",
    "        \n",
    "        #return holiday_list\n",
    "\n",
    "full_list = HolidayList\n",
    "full_list.addHoliday(full_list, Jeff)\n",
    "full_list.addHoliday(full_list, Christmas)\n",
    "full_list.addHoliday(full_list, Thanos)\n",
    "print(full_list.showHolidays(full_list))\n",
    "print(full_list.filter_holidays_by_week(full_list, 1998, 53))\n",
    "print(full_list.scrapeHolidays(full_list))"
   ]
  },
  {
   "cell_type": "markdown",
   "metadata": {},
   "source": [
    "#### Scraping Holiday website"
   ]
  },
  {
   "cell_type": "code",
   "execution_count": null,
   "metadata": {},
   "outputs": [],
   "source": [
    "def getHTML(url):\n",
    "    response = requests.get(url)\n",
    "    return response.text\n",
    "\n",
    "html = getHTML('https://www.timeanddate.com/holidays/us/')\n",
    "\n",
    "soup = BeautifulSoup(html, 'html.parser')\n",
    "\n",
    "soup_title = soup.title"
   ]
  },
  {
   "cell_type": "code",
   "execution_count": 378,
   "metadata": {},
   "outputs": [],
   "source": [
    "article_find = soup.find_all('article', attrs = {'class': 'table-data'})\n",
    "#new_article = soup.find_all('section')\n",
    "#word_search = soup.find_all(text = \"New Year's Day\")"
   ]
  },
  {
   "cell_type": "code",
   "execution_count": null,
   "metadata": {},
   "outputs": [],
   "source": [
    "holiday_list_year = soup_title.contents[0][-4:]\n",
    "tbody = soup.tbody\n",
    "trs = tbody.contents\n",
    "first_tag = trs[0].next_sibling\n",
    "holiday_list = []\n",
    "#print(first_tag)\n",
    "#print(trs[25].find('th').string)\n",
    "#print(first_tag.find('th').string)\n",
    "for tr in trs[1:]:\n",
    "    if len(str(tr)) > 35:\n",
    "        holiday_dictionary = {}\n",
    "        #holiday_dictionary[tr.find('a').string] = tr.find('th').string\n",
    "        holiday_dictionary['Holiday Name'] = tr.find('a').string\n",
    "        holiday_dictionary['Holiday Date'] = tr.find('th').string\n",
    "        holiday_dictionary['Holiday Year'] = holiday_list_year\n",
    "        holiday_list.append(holiday_dictionary)\n",
    "print(holiday_list)"
   ]
  },
  {
   "cell_type": "code",
   "execution_count": null,
   "metadata": {},
   "outputs": [],
   "source": [
    "month_name = 'Nov'\n",
    "Jan_date = str(datetime.datetime.strptime('Nov', '%b').month)\n",
    "print(f'0{Jan_date}'[-2:])\n",
    "\n",
    "print(holiday_list[0])\n",
    "month = str((holiday_list[0]['Holiday Date'].split(' ')[0]))\n",
    "day = str((holiday_list[0]['Holiday Date'].split(' ')[1]))\n",
    "fixed_date = datetime.datetime.strptime(month, '%b').month\n",
    "print(\"0\" + str(fixed_date)[-2:] + \"-0\" + str(day)[-2:])"
   ]
  },
  {
   "cell_type": "code",
   "execution_count": 14,
   "metadata": {},
   "outputs": [
    {
     "name": "stdout",
     "output_type": "stream",
     "text": [
      "Week #15 of year 2022\n",
      "2022-04-23 14:51:47.171851\n",
      "8\n"
     ]
    }
   ],
   "source": [
    "current_week = datetime.now()\n",
    "year, week_num, day_of_week = current_week.isocalendar()\n",
    "print('Week #' + str(week_num) + \" of year \" + str(year))\n",
    "\n",
    "day_of_week_2 = day_of_week + 1\n",
    "tomorrow = current_week + timedelta(days = 6)\n",
    "print(tomorrow)\n",
    "print(day_of_week_2)"
   ]
  },
  {
   "cell_type": "markdown",
   "metadata": {},
   "source": [
    "#### Weather API"
   ]
  },
  {
   "cell_type": "code",
   "execution_count": 30,
   "metadata": {},
   "outputs": [
    {
     "name": "stdout",
     "output_type": "stream",
     "text": [
      "200\n"
     ]
    }
   ],
   "source": [
    "url = \"https://community-open-weather-map.p.rapidapi.com/weather\"\n",
    "\n",
    "querystring = {\"q\":\"London,uk\",\"lat\":\"0\",\"lon\":\"0\",\"callback\":\"test\",\"id\":\"2172797\",\"lang\":\"null\",\"units\":\"imperial\",\"mode\":\"xml\"}\n",
    "\n",
    "headers = {\n",
    "\t\"X-RapidAPI-Host\": \"community-open-weather-map.p.rapidapi.com\",\n",
    "\t\"X-RapidAPI-Key\": \"a137553bf2msh51f1d9425f948dfp1278d4jsn2653822db306\"\n",
    "}\n",
    "\n",
    "#response = requests.request(\"GET\", url, headers=headers, params=querystring)\n",
    "response = requests.get(url, headers=headers, params=querystring)\n",
    "\n",
    "#print(response.text)"
   ]
  },
  {
   "cell_type": "code",
   "execution_count": 55,
   "metadata": {},
   "outputs": [
    {
     "name": "stdout",
     "output_type": "stream",
     "text": [
      "{\"coord\":{\"lon\":-0.1257,\"lat\":51.5085},\"weather\":[{\"id\":804,\"main\":\"Clouds\",\"description\":\"overcast clouds\",\"icon\":\"04n\"}],\"base\":\"stations\",\"main\":{\"temp\":50.14,\"feels_like\":47.91,\"temp_min\":45.36,\"temp_max\":53.56,\"pressure\":1018,\"humidity\":65},\"visibility\":10000,\"wind\":{\"speed\":3.44,\"deg\":80},\"clouds\":{\"all\":99},\"dt\":1650233551,\"sys\":{\"type\":2,\"id\":2019646,\"country\":\"GB\",\"sunrise\":1650171636,\"sunset\":1650221950},\"timezone\":3600,\"id\":2643743,\"name\":\"London\",\"cod\":200}\n",
      "<class 'bs4.BeautifulSoup'>\n",
      "None\n",
      "overcast clouds\n"
     ]
    }
   ],
   "source": [
    "#print(response.text)\n",
    "\n",
    "soup = BeautifulSoup(response.text[5:-1], 'html.parser')\n",
    "print(soup)\n",
    "print(type(soup))\n",
    "\n",
    "print(soup.find('coord'))\n",
    "json_version = json.loads(str(soup))\n",
    "print(json_version['weather'][0]['description'])"
   ]
  }
 ],
 "metadata": {
  "interpreter": {
   "hash": "97f613484c7082a5f441d3814b62bbd2ba6367090f977f8bd3f34e33dc661583"
  },
  "kernelspec": {
   "display_name": "Python 3.9.7 ('base')",
   "language": "python",
   "name": "python3"
  },
  "language_info": {
   "codemirror_mode": {
    "name": "ipython",
    "version": 3
   },
   "file_extension": ".py",
   "mimetype": "text/x-python",
   "name": "python",
   "nbconvert_exporter": "python",
   "pygments_lexer": "ipython3",
   "version": "3.9.7"
  },
  "orig_nbformat": 4
 },
 "nbformat": 4,
 "nbformat_minor": 2
}
