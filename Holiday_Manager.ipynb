{
 "cells": [
  {
   "cell_type": "markdown",
   "metadata": {},
   "source": [
    "#### Importing Libraries"
   ]
  },
  {
   "cell_type": "code",
   "execution_count": 62,
   "metadata": {},
   "outputs": [],
   "source": [
    "import datetime\n",
    "import json\n",
    "from bs4 import BeautifulSoup\n",
    "import requests\n",
    "from dataclasses import dataclass"
   ]
  },
  {
   "cell_type": "markdown",
   "metadata": {},
   "source": [
    "#### Making the Holiday class"
   ]
  },
  {
   "cell_type": "code",
   "execution_count": 137,
   "metadata": {},
   "outputs": [
    {
     "name": "stdout",
     "output_type": "stream",
     "text": [
      "{}\n",
      "The Holiday is Christmas, which occurs on 1999-12-25 00:00:00.\n"
     ]
    }
   ],
   "source": [
    "class Holiday:\n",
    "    def __init__(self, name, date):\n",
    "            \n",
    "        date = datetime.datetime.strptime(date, '%Y-%m-%d')\n",
    "        \n",
    "        self._name = name \n",
    "        self._date = date\n",
    "        self.holiday_dict = {}\n",
    "    \n",
    "    def __str__(self):\n",
    "        return f'The Holiday is {self._name}, which occurs on {self._date}.'\n",
    "    \n",
    "    def __dict__(self, name, date):\n",
    "        self.holiday_dict[name] = date\n",
    "    \n",
    "    def __showdict__(self):\n",
    "        return self.holiday_dict\n",
    "\n",
    "Christmas_maker = Holiday('Christmas', '1999-12-25')\n",
    "Christmas_var = vars(Christmas_maker.__showdict__)\n",
    "print(Christmas_var)\n",
    "print(Christmas_maker)"
   ]
  },
  {
   "cell_type": "code",
   "execution_count": 117,
   "metadata": {},
   "outputs": [
    {
     "name": "stdout",
     "output_type": "stream",
     "text": [
      "<bound method Holiday.__dict__ of <__main__.Holiday object at 0x000001937B208550>>\n",
      "The Holidays are as follows: []\n"
     ]
    }
   ],
   "source": [
    "class HolidayList:\n",
    "    def __init__(self, holidayObj):\n",
    "        self.innerHolidays = []\n",
    "        self.holidayObj = holidayObj\n",
    "        #else: raise Exception()\n",
    "\n",
    "    def addHoliday(self, holidayObj):\n",
    "        \n",
    "        self.innerHolidays.append(holidayObj.__dict__)\n",
    "        return self.innerHolidays\n",
    "\n",
    "    def __str__(self):\n",
    "        return f'The Holidays are as follows: {self.innerHolidays}'\n",
    "    \n",
    "    def __repr__(self):\n",
    "        return self.innerHolidays\n",
    "    \n",
    "    def __list__(self):\n",
    "        return self.innerHolidays\n",
    "    \n",
    "    def findHoliday(HolidayName, Date):\n",
    "        return HolidayName, Date\n",
    "\n",
    "full_list = HolidayList(Christmas)\n",
    "print(full_list)"
   ]
  }
 ],
 "metadata": {
  "interpreter": {
   "hash": "97f613484c7082a5f441d3814b62bbd2ba6367090f977f8bd3f34e33dc661583"
  },
  "kernelspec": {
   "display_name": "Python 3.9.7 ('base')",
   "language": "python",
   "name": "python3"
  },
  "language_info": {
   "codemirror_mode": {
    "name": "ipython",
    "version": 3
   },
   "file_extension": ".py",
   "mimetype": "text/x-python",
   "name": "python",
   "nbconvert_exporter": "python",
   "pygments_lexer": "ipython3",
   "version": "3.9.7"
  },
  "orig_nbformat": 4
 },
 "nbformat": 4,
 "nbformat_minor": 2
}
