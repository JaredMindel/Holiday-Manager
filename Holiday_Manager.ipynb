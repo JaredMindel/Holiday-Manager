{
 "cells": [
  {
   "cell_type": "markdown",
   "metadata": {},
   "source": [
    "#### Importing Libraries"
   ]
  },
  {
   "cell_type": "code",
   "execution_count": 1,
   "metadata": {},
   "outputs": [],
   "source": [
    "from datetime import datetime\n",
    "from datetime import date\n",
    "from datetime import timedelta\n",
    "import json\n",
    "from bs4 import BeautifulSoup\n",
    "import requests\n",
    "from dataclasses import dataclass"
   ]
  },
  {
   "cell_type": "markdown",
   "metadata": {},
   "source": [
    "#### Making the Holiday class"
   ]
  },
  {
   "cell_type": "code",
   "execution_count": 170,
   "metadata": {},
   "outputs": [
    {
     "name": "stdout",
     "output_type": "stream",
     "text": [
      "The holiday is Christmas and the date is 1999-01-01 00:00:00\n",
      "{'_name': 'Christmas', '_date': datetime.datetime(1999, 1, 1, 0, 0)}\n",
      "The holiday is Jeff and the date is 1999-11-18 00:00:00\n",
      "{'_name': 'Jeff', '_date': datetime.datetime(1999, 11, 18, 0, 0)}\n"
     ]
    }
   ],
   "source": [
    "class Holiday:\n",
    "\n",
    "    def __init__(self, name, date):\n",
    "            \n",
    "        date_format = '%Y-%m-%d'\n",
    "        date = datetime.datetime.strptime(date, date_format)\n",
    "        self._name = name \n",
    "        self._date = date\n",
    "\n",
    "    def __str__(self):\n",
    "        return f'The holiday is {self._name} and the date is {self._date}'\n",
    "    \n",
    "Christmas = Holiday('Christmas', '1999-12-25')\n",
    "#Obviously the below is just a set of test examples, not real holidays\n",
    "Jeff = Holiday('Jeff', '1999-11-18')\n",
    "Thanos = Holiday('Thanos', '2012-09-26')\n",
    "print(Christmas)\n",
    "print(vars(Christmas))\n",
    "print(Jeff)\n",
    "print(vars(Jeff))"
   ]
  },
  {
   "cell_type": "code",
   "execution_count": null,
   "metadata": {},
   "outputs": [],
   "source": [
    "class HolidayList:\n",
    "    \n",
    "    innerHolidays = []\n",
    "    \n",
    "    def __init__(self, holidayObj):\n",
    "        self.holidayObj = holidayObj\n",
    "\n",
    "    def addHoliday(self, holidayObj):\n",
    "        \n",
    "        self.innerHolidays.append(vars(holidayObj))\n",
    "        return self.innerHolidays\n",
    "\n",
    "    def __str__(self):\n",
    "        return f'The Holidays are as follows: {self.innerHolidays}'\n",
    "    \n",
    "    def __repr__(self):\n",
    "        return f'the holiday is {self.holidayObj}, holiday list: {self.innerHolidays}'\n",
    "    \n",
    "    def findHoliday(self, HolidayName, Date):\n",
    "        for item in self.innerHolidays:\n",
    "            if item['_name'] == HolidayName:\n",
    "                if item['_date'] == datetime.datetime.strptime(Date, '%Y-%m-%d'):\n",
    "                    return f'The Holiday is {HolidayName} and the date is {Date}'\n",
    "                else: \n",
    "                    return 'That holiday is not here; the date may be wrong.'\n",
    "    \n",
    "    def removeHoliday(self, HolidayName, Date):\n",
    "        for item in self.innerHolidays:\n",
    "            if item['_name'] == HolidayName:\n",
    "                if item['_date'] == datetime.datetime.strptime(Date, '%Y-%m-%d'):\n",
    "                    self.innerHolidays.remove(item)\n",
    "                    return 'That holiday has been removed'\n",
    "                else:\n",
    "                    return 'That holiday is not here; the date may be wrong.'\n",
    "            else: \n",
    "                return 'That name is not in here.'\n",
    "    \n",
    "    def numHolidays(self):\n",
    "        holiday_num = len(self.innerHolidays)\n",
    "        return f'There are {holiday_num} holidays here'\n",
    "\n",
    "    def filter_holidays_by_week(self, year, week):\n",
    "       self.holidays = list(filter(lambda x:x['_date'].isocalendar()[1] == week and x['_date'].isocalendar()[0] == year, self.innerHolidays))\n",
    "       return self.holidays\n",
    "\n",
    "    def displayHolidaysinWeek(self):\n",
    "        return \"Getting to this later\"\n",
    "\n",
    "    def displayHolidaysandWeek(self):\n",
    "        return list(map(lambda x:(x['_name'], x['_date'].isocalendar()[1]), self.innerHolidays))\n",
    "    \n",
    "    def showHolidays(self):\n",
    "        return self.innerHolidays\n",
    "    \n",
    "    def scrapeHolidays(self):\n",
    "        \n",
    "        self.holidays_in_2020 = requests.get('https://www.timeanddate.com/holidays/us/2020').text\n",
    "        self.holidays_in_2020_bs = BeautifulSoup(self.holidays_in_2020, 'html.parser')\n",
    "        \n",
    "        self.holidays_in_2021 = requests.get('https://www.timeanddate.com/holidays/us/2021').text\n",
    "        self.holidays_in_2021_bs = BeautifulSoup(self.holidays_in_2021, 'html.parser')\n",
    "        \n",
    "        self.holidays_in_2022 = requests.get('https://www.timeanddate.com/holidays/us/2022').text\n",
    "        self.holidays_in_2022_bs = BeautifulSoup(self.holidays_in_2022, 'html.parser')\n",
    "\n",
    "        self.holidays_in_2023 = requests.get('https://www.timeanddate.com/holidays/us/2023').text\n",
    "        self.holidays_in_2023_bs = BeautifulSoup(self.holidays_in_2023, 'html.parser')\n",
    "\n",
    "        self.holidays_in_2024 = requests.get('https://www.timeanddate.com/holidays/us/2024').text\n",
    "        self.holidays_in_2024_bs = BeautifulSoup(self.holidays_in_2024, 'html.parser')\n",
    "\n",
    "        self.holiday_year_list = [self.holidays_in_2020_bs, self.holidays_in_2021_bs, self.holidays_in_2022_bs, self.holidays_in_2023_bs, self.holidays_in_2024_bs]\n",
    "        \n",
    "        holiday_list = []\n",
    "\n",
    "        for self.holiday_list_item in self.holiday_year_list:\n",
    "\n",
    "            holiday_list_year = self.holiday_list_item.title.contents[0][-4:]\n",
    "            tbody = self.holiday_list_item.tbody\n",
    "            trs = tbody.contents\n",
    "            for tr in trs[1:]:\n",
    "                if len(str(tr)) > 35:\n",
    "                    holiday_dictionary = {}\n",
    "                    holiday_dictionary['Holiday Name'] = tr.find('a').string\n",
    "                    holiday_dictionary['Holiday Date'] = tr.find('th').string\n",
    "                    holiday_dictionary['Holiday Year'] = holiday_list_year\n",
    "                    holiday_list.append(holiday_dictionary)\n",
    "\n",
    "        return holiday_list\n",
    "        \n",
    "        #return holiday_list\n",
    "\n",
    "full_list = HolidayList\n",
    "full_list.addHoliday(full_list, Jeff)\n",
    "full_list.addHoliday(full_list, Christmas)\n",
    "full_list.addHoliday(full_list, Thanos)\n",
    "print(full_list.showHolidays(full_list))\n",
    "print(full_list.filter_holidays_by_week(full_list, 1998, 53))\n",
    "print(full_list.scrapeHolidays(full_list))"
   ]
  },
  {
   "cell_type": "markdown",
   "metadata": {},
   "source": [
    "#### Scraping Holiday website"
   ]
  },
  {
   "cell_type": "code",
   "execution_count": null,
   "metadata": {},
   "outputs": [],
   "source": [
    "def getHTML(url):\n",
    "    response = requests.get(url)\n",
    "    return response.text\n",
    "\n",
    "html = getHTML('https://www.timeanddate.com/holidays/us/')\n",
    "\n",
    "soup = BeautifulSoup(html, 'html.parser')\n",
    "\n",
    "soup_title = soup.title"
   ]
  },
  {
   "cell_type": "code",
   "execution_count": 378,
   "metadata": {},
   "outputs": [],
   "source": [
    "article_find = soup.find_all('article', attrs = {'class': 'table-data'})\n",
    "#new_article = soup.find_all('section')\n",
    "#word_search = soup.find_all(text = \"New Year's Day\")"
   ]
  },
  {
   "cell_type": "code",
   "execution_count": null,
   "metadata": {},
   "outputs": [],
   "source": [
    "holiday_list_year = soup_title.contents[0][-4:]\n",
    "tbody = soup.tbody\n",
    "trs = tbody.contents\n",
    "first_tag = trs[0].next_sibling\n",
    "holiday_list = []\n",
    "#print(first_tag)\n",
    "#print(trs[25].find('th').string)\n",
    "#print(first_tag.find('th').string)\n",
    "for tr in trs[1:]:\n",
    "    if len(str(tr)) > 35:\n",
    "        holiday_dictionary = {}\n",
    "        #holiday_dictionary[tr.find('a').string] = tr.find('th').string\n",
    "        holiday_dictionary['Holiday Name'] = tr.find('a').string\n",
    "        holiday_dictionary['Holiday Date'] = tr.find('th').string\n",
    "        holiday_dictionary['Holiday Year'] = holiday_list_year\n",
    "        holiday_list.append(holiday_dictionary)\n",
    "print(holiday_list)"
   ]
  },
  {
   "cell_type": "code",
   "execution_count": null,
   "metadata": {},
   "outputs": [],
   "source": [
    "month_name = 'Nov'\n",
    "Jan_date = str(datetime.datetime.strptime('Nov', '%b').month)\n",
    "print(f'0{Jan_date}'[-2:])\n",
    "\n",
    "print(holiday_list[0])\n",
    "month = str((holiday_list[0]['Holiday Date'].split(' ')[0]))\n",
    "day = str((holiday_list[0]['Holiday Date'].split(' ')[1]))\n",
    "fixed_date = datetime.datetime.strptime(month, '%b').month\n",
    "print(\"0\" + str(fixed_date)[-2:] + \"-0\" + str(day)[-2:])"
   ]
  },
  {
   "cell_type": "markdown",
   "metadata": {},
   "source": [
    "#### Weather API"
   ]
  },
  {
   "cell_type": "code",
   "execution_count": 123,
   "metadata": {},
   "outputs": [],
   "source": [
    "url_history = \"https://weatherapi-com.p.rapidapi.com/history.json\"\n",
    "\n",
    "querystring_history = {\"q\":\"San Diego\",\"dt\":\"2022-04-13\",\"lang\":\"en\", 'end_dt': \"2022-04-17\"}\n",
    "\n",
    "headers_history = {\n",
    "\t\"X-RapidAPI-Host\": \"weatherapi-com.p.rapidapi.com\",\n",
    "\t\"X-RapidAPI-Key\": \"a137553bf2msh51f1d9425f948dfp1278d4jsn2653822db306\"\n",
    "}"
   ]
  },
  {
   "cell_type": "code",
   "execution_count": 198,
   "metadata": {},
   "outputs": [
    {
     "name": "stdout",
     "output_type": "stream",
     "text": [
      "2022-04-18 08:22:32.368351\n",
      "2022-04-11 08:22:32.368351\n",
      "datetime.IsoCalendarDate(year=2022, week=15, weekday=1)\n"
     ]
    }
   ],
   "source": [
    "current_day = datetime.today()\n",
    "\n",
    "current_day_iso = current_day.isocalendar()\n",
    "print(current_day)\n",
    "testing_date = current_day - timedelta(days = 7)\n",
    "print(testing_date)\n",
    "testing_formatted = testing_date.strftime('%Y-%m-%d')\n",
    "testing_iso = testing_date.isocalendar()\n",
    "print(testing_iso)"
   ]
  },
  {
   "cell_type": "code",
   "execution_count": 202,
   "metadata": {},
   "outputs": [
    {
     "name": "stdout",
     "output_type": "stream",
     "text": [
      "datetime.IsoCalendarDate(year=2022, week=15, weekday=1)\n",
      "1\n",
      "{'q': 'San Diego', 'dt': '2022-04-11', 'lang': 'en', 'end_dt': '2022-04-17'}\n"
     ]
    }
   ],
   "source": [
    "starting_iso = testing_iso\n",
    "print(testing_iso)\n",
    "print(testing_iso[2])\n",
    "\n",
    "if int(testing_iso[2]) == 7:\n",
    "    starting_date = testing_date - timedelta(days = 6)\n",
    "    starting_iso = starting_date.strftime('%Y-%m-%d')\n",
    "    print(starting_iso)\n",
    "    end_date = current_day - timedelta(days = 1)\n",
    "    end_date_iso = end_date.strftime('%Y-%m-%d')\n",
    "    starting_iso = starting_date.strftime('%Y-%m-%d')\n",
    "    print(end_date_iso)\n",
    "    querystring_history = {\"q\":\"San Diego\",\"dt\":str(starting_iso),\"lang\":\"en\", 'end_dt': str(end_date_iso)}\n",
    "\n",
    "elif int(testing_iso[2]) == 6:\n",
    "    starting_date = testing_date - timedelta(days = 5)\n",
    "    starting_iso = starting_date.strftime('%Y-%m-%d')\n",
    "    print(starting_iso)\n",
    "    querystring = {\"q\":\"San Diego\",\"days\":\"2\"}\n",
    "    end_date = testing_date + timedelta(days = 1)\n",
    "    end_date_iso = end_date.strftime('%Y-%m-%d')\n",
    "    print(end_date_iso)\n",
    "    querystring_history = {\"q\":\"San Diego\",\"dt\":str(starting_iso),\"lang\":\"en\", 'end_dt': str(end_date_iso)}\n",
    "\n",
    "elif int(testing_iso[2]) == 5:\n",
    "    starting_iso = testing_date - timedelta(days = 4)\n",
    "    starting_iso = starting_iso.strftime('%Y-%m-%d')\n",
    "    print(starting_iso)\n",
    "    querystring = {\"q\":\"San Diego\",\"days\":\"3\"}\n",
    "    end_date = testing_date + timedelta(days = 2)\n",
    "    end_date_iso = end_date.strftime('%Y-%m-%d')\n",
    "    print(end_date_iso)\n",
    "    querystring_history = {\"q\":\"San Diego\",\"dt\":str(starting_iso),\"lang\":\"en\", 'end_dt': str(end_date_iso)}\n",
    "    \n",
    "elif int(testing_iso[2]) == 4:\n",
    "    starting_iso = testing_date - timedelta(days = 3)\n",
    "    starting_iso = starting_iso.strftime('%Y-%m-%d')\n",
    "    print(starting_iso)\n",
    "    querystring = {\"q\":\"San Diego\",\"days\":\"4\"}\n",
    "    end_date = testing_date + timedelta(days = 3)\n",
    "    end_date_iso = end_date.strftime('%Y-%m-%d')\n",
    "    print(end_date_iso)\n",
    "    querystring_history = {\"q\":\"San Diego\",\"dt\":str(starting_iso),\"lang\":\"en\", 'end_dt': str(end_date_iso)}\n",
    "\n",
    "elif int(testing_iso[2]) == 3:\n",
    "    starting_iso = testing_date - timedelta(days = 2)\n",
    "    starting_iso = starting_iso.strftime('%Y-%m-%d')\n",
    "    print(starting_iso)\n",
    "    querystring = {\"q\":\"San Diego\",\"days\":\"5\"}\n",
    "    end_date = testing_date + timedelta(days = 4)\n",
    "    end_date_iso = end_date.strftime('%Y-%m-%d')\n",
    "    print(end_date_iso)\n",
    "    querystring_history = {\"q\":\"San Diego\",\"dt\":str(starting_iso),\"lang\":\"en\", 'end_dt': str(end_date_iso)}\n",
    "\n",
    "elif int(testing_iso[2]) == 2:\n",
    "    starting_iso = testing_date - timedelta(days = 1)\n",
    "    starting_iso = starting_iso.strftime('%Y-%m-%d')\n",
    "    print(starting_iso)\n",
    "    querystring = {\"q\":\"San Diego\",\"days\":\"7\"}\n",
    "    end_date = testing_date + timedelta(days = 5)\n",
    "    end_date_iso = end_date.strftime('%Y-%m-%d')\n",
    "    print(end_date_iso)\n",
    "    querystring_history = {\"q\":\"San Diego\",\"dt\":str(starting_iso),\"lang\":\"en\", 'end_dt': str(end_date_iso)}\n",
    "\n",
    "elif int(testing_iso[2]) == 1:\n",
    "    starting_date = testing_date\n",
    "    starting_iso = starting_date.strftime('%Y-%m-%d')\n",
    "    end_date = testing_date + timedelta(days = 6)\n",
    "    end_date_iso = end_date.strftime('%Y-%m-%d')\n",
    "    querystring_history = {\"q\":\"San Diego\",\"dt\":str(starting_iso),\"lang\":\"en\", 'end_dt': str(end_date_iso)}\n",
    "    print(querystring_history)"
   ]
  },
  {
   "cell_type": "code",
   "execution_count": 203,
   "metadata": {},
   "outputs": [
    {
     "name": "stdout",
     "output_type": "stream",
     "text": [
      "[{'2022-04-11': 'Cloudy'}, {'2022-04-12': 'Partly cloudy'}, {'2022-04-13': 'Partly cloudy'}, {'2022-04-14': 'Sunny'}, {'2022-04-15': 'Partly cloudy'}, {'2022-04-16': 'Partly cloudy'}, {'2022-04-17': 'Sunny'}]\n"
     ]
    }
   ],
   "source": [
    "url = \"https://weatherapi-com.p.rapidapi.com/forecast.json\"\n",
    "\n",
    "headers = {\n",
    "\t\"X-RapidAPI-Host\": \"weatherapi-com.p.rapidapi.com\",\n",
    "\t\"X-RapidAPI-Key\": \"a137553bf2msh51f1d9425f948dfp1278d4jsn2653822db306\"\n",
    "}\n",
    "\n",
    "response = requests.request(\"GET\", url, headers=headers, params=querystring)\n",
    "\n",
    "json_forecast = json.loads(response.text)\n",
    "\n",
    "#print(json_forecast['forecast']['forecastday'][0]['day']['condition']['text'])\n",
    "\n",
    "url_history = \"https://weatherapi-com.p.rapidapi.com/history.json\"\n",
    "\n",
    "headers_history = {\n",
    "\t\"X-RapidAPI-Host\": \"weatherapi-com.p.rapidapi.com\",\n",
    "\t\"X-RapidAPI-Key\": \"a137553bf2msh51f1d9425f948dfp1278d4jsn2653822db306\"\n",
    "}\n",
    "response_history = requests.request(\"GET\", url_history, headers = headers_history, params=querystring_history)\n",
    "\n",
    "json_weather_history = json.loads(response_history.text)\n",
    "#print(json_weather_history['forecast']['forecastday'][0]['day']['condition']['text'])\n",
    "\n",
    "day_list = []\n",
    "\n",
    "for day in range(len(json_weather_history['forecast']['forecastday'])):\n",
    "\tday_list.append({json_weather_history['forecast']['forecastday'][day]['date']: json_weather_history['forecast']['forecastday'][day]['day']['condition']['text']})\n",
    "\n",
    "#for day in range(len(json_forecast['forecast']['forecastday'])):\n",
    "\t#day_list.append({json_forecast['forecast']['forecastday'][day]['date']: json_forecast['forecast']['forecastday'][day]['day']['condition']['text']})\n",
    "\n",
    "print(day_list)"
   ]
  }
 ],
 "metadata": {
  "interpreter": {
   "hash": "97f613484c7082a5f441d3814b62bbd2ba6367090f977f8bd3f34e33dc661583"
  },
  "kernelspec": {
   "display_name": "Python 3.9.7 ('base')",
   "language": "python",
   "name": "python3"
  },
  "language_info": {
   "codemirror_mode": {
    "name": "ipython",
    "version": 3
   },
   "file_extension": ".py",
   "mimetype": "text/x-python",
   "name": "python",
   "nbconvert_exporter": "python",
   "pygments_lexer": "ipython3",
   "version": "3.9.7"
  },
  "orig_nbformat": 4
 },
 "nbformat": 4,
 "nbformat_minor": 2
}
